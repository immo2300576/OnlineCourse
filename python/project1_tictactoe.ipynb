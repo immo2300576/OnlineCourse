{
 "cells": [
  {
   "cell_type": "code",
   "execution_count": 119,
   "metadata": {
    "collapsed": false
   },
   "outputs": [],
   "source": [
    "# board is a list, N/O/X\n",
    "def board_init(board):\n",
    "    ind = 0\n",
    "    while ind < 9:\n",
    "        board[ind]='N'\n",
    "        ind+=1"
   ]
  },
  {
   "cell_type": "code",
   "execution_count": 120,
   "metadata": {
    "collapsed": false
   },
   "outputs": [],
   "source": [
    "def display_board(board):\n",
    "    print(\"Current board layout:\")\n",
    "    print(\"%6s %s %s\" %(board[0],board[1],board[2]))\n",
    "    print(\"%6s %s %s\" %(board[3],board[4],board[5]))\n",
    "    print(\"%6s %s %s\" %(board[6],board[7],board[8]))"
   ]
  },
  {
   "cell_type": "code",
   "execution_count": 121,
   "metadata": {
    "collapsed": true
   },
   "outputs": [],
   "source": [
    "def player_input():\n",
    "    pos = '-1'\n",
    "    l = ('0','1','2','3','4','5','6','7','8')\n",
    "    d = {'0':0,'1':1,'2':2,'3':3,'4':4,'5':5,'6':6,'7':7,'8':8}\n",
    "    while True:\n",
    "        pos = input(\"Input a position: [0~8]\")\n",
    "        if pos in l:\n",
    "            break\n",
    "    return d[pos]\n",
    "    "
   ]
  },
  {
   "cell_type": "code",
   "execution_count": 122,
   "metadata": {
    "collapsed": true
   },
   "outputs": [],
   "source": [
    "def place_marker(board, marker, pos):\n",
    "    board[pos] = marker"
   ]
  },
  {
   "cell_type": "code",
   "execution_count": 123,
   "metadata": {
    "collapsed": true
   },
   "outputs": [],
   "source": [
    "def win_check(board,marker):\n",
    "    if board[4]==marker:\n",
    "        if board[0]==marker:\n",
    "            if board[8]==marker:\n",
    "                return True\n",
    "        if board[1]==marker:\n",
    "            if board[7]==marker:\n",
    "                return True\n",
    "        if board[2]==marker:\n",
    "            if board[6]==marker:\n",
    "                return True\n",
    "        if board[3]==marker:\n",
    "            if board[5]==marker:\n",
    "                return True\n",
    "    if board[1]==marker:\n",
    "        if board[0]==marker:\n",
    "            if board[2]==marker:\n",
    "                return True\n",
    "    if board[3]==marker:\n",
    "        if board[0]==marker:\n",
    "            if board[6]==marker:\n",
    "                return True\n",
    "    if board[5]==marker:\n",
    "        if board[2]==marker:\n",
    "            if board[8]==marker:\n",
    "                return True\n",
    "    if board[7]==marker:\n",
    "        if board[6]==marker:\n",
    "            if board[8]==marker:\n",
    "                return True\n",
    "    return False\n"
   ]
  },
  {
   "cell_type": "code",
   "execution_count": 124,
   "metadata": {
    "collapsed": false
   },
   "outputs": [],
   "source": [
    "from random import choice\n",
    "def choose_first():\n",
    "    player1 = input('Input the name of player1: ')\n",
    "    player2 = input('Input the name of player2: ')\n",
    "    first = choice([player1,player2])\n",
    "    print(\"%s goes first\" %(first))"
   ]
  },
  {
   "cell_type": "code",
   "execution_count": 125,
   "metadata": {
    "collapsed": false
   },
   "outputs": [],
   "source": [
    "def space_check(board,pos):\n",
    "    if board[pos] == 'N':\n",
    "        return True\n",
    "    else:\n",
    "        return False"
   ]
  },
  {
   "cell_type": "code",
   "execution_count": 126,
   "metadata": {
    "collapsed": true
   },
   "outputs": [],
   "source": [
    "def full_board_check(board):\n",
    "    if board.count('N')==0:\n",
    "        print(\"Game is finished! (Tie)\")\n",
    "        return True\n",
    "    else:\n",
    "        return False"
   ]
  },
  {
   "cell_type": "code",
   "execution_count": 127,
   "metadata": {
    "collapsed": true
   },
   "outputs": [],
   "source": [
    "def player_choice(board):\n",
    "    pos = player_input()\n",
    "    while(space_check(board,pos)!=True):\n",
    "        print('Not Valid Input! Please re-input the position')\n",
    "        pos = player_input()\n",
    "    return pos"
   ]
  },
  {
   "cell_type": "code",
   "execution_count": 128,
   "metadata": {
    "collapsed": true
   },
   "outputs": [],
   "source": [
    "def replay():\n",
    "    if input(\"Want to play again? [y/n]\")=='y':\n",
    "        return True\n",
    "    else:\n",
    "        return False"
   ]
  },
  {
   "cell_type": "code",
   "execution_count": 130,
   "metadata": {
    "collapsed": false
   },
   "outputs": [
    {
     "name": "stdout",
     "output_type": "stream",
     "text": [
      "Welcome to Tic Tac Toe Game!\n",
      "Input the name of player1: tim\n",
      "Input the name of player2: tim2\n",
      "tim2 goes first\n",
      "Current board layout:\n",
      "     N N N\n",
      "     N N N\n",
      "     N N N\n",
      "Input a position: [0~8]4\n",
      "Current board layout:\n",
      "     N N N\n",
      "     N O N\n",
      "     N N N\n",
      "Input a position: [0~8]1\n",
      "Current board layout:\n",
      "     N X N\n",
      "     N O N\n",
      "     N N N\n",
      "Input a position: [0~8]8\n",
      "Current board layout:\n",
      "     N X N\n",
      "     N O N\n",
      "     N N O\n",
      "Input a position: [0~8]0\n",
      "Current board layout:\n",
      "     X X N\n",
      "     N O N\n",
      "     N N O\n",
      "Input a position: [0~8]2\n",
      "Current board layout:\n",
      "     X X O\n",
      "     N O N\n",
      "     N N O\n",
      "Input a position: [0~8]5\n",
      "Current board layout:\n",
      "     X X O\n",
      "     N O X\n",
      "     N N O\n",
      "Input a position: [0~8]2\n",
      "Not Valid Input! Please re-input the position\n",
      "Input a position: [0~8]3\n",
      "Current board layout:\n",
      "     X X O\n",
      "     O O X\n",
      "     N N O\n",
      "Input a position: [0~8]6\n",
      "Current board layout:\n",
      "     X X O\n",
      "     O O X\n",
      "     X N O\n",
      "Input a position: [0~8]7\n",
      "Current board layout:\n",
      "     X X O\n",
      "     O O X\n",
      "     X O O\n",
      "Game is finished! (Tie)\n",
      "Want to play again? [y/n]n\n"
     ]
    }
   ],
   "source": [
    "print('Welcome to Tic Tac Toe Game!')\n",
    "\n",
    "while True:\n",
    "    # Set the game up here\n",
    "    game_on = True\n",
    "    board_init(board)\n",
    "    choose_first() \n",
    "    display_board(board)\n",
    "    \n",
    "    while game_on:\n",
    "        \n",
    "        #Player1's turn\n",
    "        pos = player_choice(board)\n",
    "        place_marker(board,'O',pos)\n",
    "        display_board(board)\n",
    "        \n",
    "        if win_check(board,'O') == True:\n",
    "            print(\"Player1 has won the game!\")\n",
    "            game_on = False\n",
    "            break;\n",
    "        if full_board_check(board) == True:\n",
    "            game_on = False\n",
    "            break            \n",
    "        \n",
    "        #Player2's turn\n",
    "        pos = player_choice(board)\n",
    "        place_marker(board,'X',pos)\n",
    "        display_board(board)\n",
    "        \n",
    "        if win_check(board,'X') == True:\n",
    "            print(\"Player2 has won the game!\")\n",
    "            game_on = False\n",
    "            break;\n",
    "    \n",
    "    if replay()==False:\n",
    "        break\n"
   ]
  },
  {
   "cell_type": "code",
   "execution_count": null,
   "metadata": {
    "collapsed": true
   },
   "outputs": [],
   "source": []
  }
 ],
 "metadata": {
  "kernelspec": {
   "display_name": "Python 3",
   "language": "python",
   "name": "python3"
  },
  "language_info": {
   "codemirror_mode": {
    "name": "ipython",
    "version": 3
   },
   "file_extension": ".py",
   "mimetype": "text/x-python",
   "name": "python",
   "nbconvert_exporter": "python",
   "pygments_lexer": "ipython3",
   "version": "3.6.0"
  }
 },
 "nbformat": 4,
 "nbformat_minor": 2
}
