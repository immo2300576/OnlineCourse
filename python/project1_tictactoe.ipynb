{
 "cells": [
  {
   "cell_type": "code",
   "execution_count": 119,
   "metadata": {
    "collapsed": false
   },
   "outputs": [],
   "source": [
    "# board is a list, N/O/X\n",
    "def board_init(board):\n",
    "    ind = 0\n",
    "    while ind < 9:\n",
    "        board[ind]='N'\n",
    "        ind+=1"
   ]
  },
  {
   "cell_type": "code",
   "execution_count": 135,
   "metadata": {
    "collapsed": false
   },
   "outputs": [],
   "source": [
    "from IPython.display import clear_output\n",
    "def display_board(board):\n",
    "    clear_output()\n",
    "    print(\"Current board layout:\")\n",
    "    print('   |   |')\n",
    "    print(' ' + board[0] + ' | ' + board[1] + ' | ' + board[2])\n",
    "    print('   |   |')\n",
    "    print('-----------')\n",
    "    print('   |   |')\n",
    "    print(' ' + board[3] + ' | ' + board[4] + ' | ' + board[5])\n",
    "    print('   |   |')\n",
    "    print('-----------')\n",
    "    print('   |   |')\n",
    "    print(' ' + board[6] + ' | ' + board[7] + ' | ' + board[8])\n",
    "    print('   |   |')"
   ]
  },
  {
   "cell_type": "code",
   "execution_count": 137,
   "metadata": {
    "collapsed": true
   },
   "outputs": [],
   "source": [
    "def player_input():\n",
    "    marker =''\n",
    "    while not (marker =='O' or marker =='X'):\n",
    "        marker = input('Player1: Which do you want? (O/X)').upper()\n",
    "\n",
    "    if marker == 'O':\n",
    "        return ('O','X')\n",
    "    else:\n",
    "        return ('X','O')"
   ]
  },
  {
   "cell_type": "code",
   "execution_count": 122,
   "metadata": {
    "collapsed": true
   },
   "outputs": [],
   "source": [
    "def place_marker(board, marker, pos):\n",
    "    board[pos] = marker"
   ]
  },
  {
   "cell_type": "code",
   "execution_count": 140,
   "metadata": {
    "collapsed": false
   },
   "outputs": [],
   "source": [
    "def win_check(board,marker):\n",
    "    \n",
    "    return ((board[4]==marker and board[0]==marker and board[8]==marker) or\n",
    "            (board[4]==marker and board[1]==marker and board[7]==marker) or\n",
    "            (board[4]==marker and board[2]==marker and board[6]==marker) or\n",
    "            (board[4]==marker and board[3]==marker and board[5]==marker) or\n",
    "            (board[1]==marker and board[0]==marker and board[2]==marker) or\n",
    "            (board[3]==marker and board[0]==marker and board[6]==marker) or\n",
    "            (board[5]==marker and board[2]==marker and board[8]==marker) or\n",
    "            (board[7]==marker and board[6]==marker and board[8]==marker))"
   ]
  },
  {
   "cell_type": "code",
   "execution_count": 145,
   "metadata": {
    "collapsed": false
   },
   "outputs": [],
   "source": [
    "from random import choice\n",
    "def choose_first():\n",
    "    player1 = input('Input the name of player1: ')\n",
    "    player2 = input('Input the name of player2: ')\n",
    "    first = choice([player1,player2])\n",
    "    print(\"%s goes first\" %(first))\n",
    "    if first == player1:\n",
    "        return 0\n",
    "    else:\n",
    "        return 1"
   ]
  },
  {
   "cell_type": "code",
   "execution_count": 141,
   "metadata": {
    "collapsed": false
   },
   "outputs": [],
   "source": [
    "def space_check(board,pos):\n",
    "    return board[pos]=='N'"
   ]
  },
  {
   "cell_type": "code",
   "execution_count": 126,
   "metadata": {
    "collapsed": true
   },
   "outputs": [],
   "source": [
    "def full_board_check(board):\n",
    "    if board.count('N')==0:\n",
    "        print(\"Game is finished! (Tie)\")\n",
    "        return True\n",
    "    else:\n",
    "        return False"
   ]
  },
  {
   "cell_type": "code",
   "execution_count": 143,
   "metadata": {
    "collapsed": false
   },
   "outputs": [],
   "source": [
    "def player_choice(board):\n",
    "    pos = ' '\n",
    "    while True:\n",
    "        pos = input(\"Input a position: [0~8]\")\n",
    "        if pos in '0 1 2 3 4 5 6 7 8'.split():\n",
    "            if(space_check(board,int(pos))):\n",
    "                break\n",
    "    return int(pos)"
   ]
  },
  {
   "cell_type": "code",
   "execution_count": 128,
   "metadata": {
    "collapsed": true
   },
   "outputs": [],
   "source": [
    "def replay():\n",
    "    if input(\"Want to play again? [y/n]\")=='y':\n",
    "        return True\n",
    "    else:\n",
    "        return False"
   ]
  },
  {
   "cell_type": "code",
   "execution_count": 148,
   "metadata": {
    "collapsed": false
   },
   "outputs": [
    {
     "name": "stdout",
     "output_type": "stream",
     "text": [
      "Current board layout:\n",
      "   |   |\n",
      " X | N | O\n",
      "   |   |\n",
      "-----------\n",
      "   |   |\n",
      " X | O | O\n",
      "   |   |\n",
      "-----------\n",
      "   |   |\n",
      " X | N | N\n",
      "   |   |\n",
      "Player1 has won the game!\n",
      "Want to play again? [y/n]n\n"
     ]
    }
   ],
   "source": [
    "print('Welcome to Tic Tac Toe Game!')\n",
    "\n",
    "while True:\n",
    "    # Set the game up here\n",
    "    game_on = True\n",
    "    board_init(board)\n",
    "    turn = choose_first()\n",
    "    marker_list = player_input()\n",
    "    display_board(board)\n",
    "    \n",
    "    while game_on:\n",
    "        \n",
    "        #Player1's turn\n",
    "        if turn == 0:\n",
    "            pos = player_choice(board)\n",
    "            place_marker(board,marker_list[0],pos)\n",
    "            display_board(board)\n",
    "        \n",
    "            if win_check(board,marker_list[0]) == True:\n",
    "                print(\"Player1 has won the game!\")\n",
    "                game_on = False\n",
    "                break;\n",
    "            elif full_board_check(board) == True:\n",
    "                game_on = False\n",
    "                break\n",
    "            else:\n",
    "                turn = 1\n",
    "        else:\n",
    "        #Player2's turn\n",
    "            pos = player_choice(board)\n",
    "            place_marker(board,marker_list[1],pos)\n",
    "            display_board(board)\n",
    "        \n",
    "            if win_check(board,marker_list[1]) == True:\n",
    "                print(\"Player2 has won the game!\")\n",
    "                game_on = False\n",
    "                break;\n",
    "            elif full_board_check(board) == True:\n",
    "                game_on = False\n",
    "                break\n",
    "            else:\n",
    "                turn = 0\n",
    "            \n",
    "    if replay()==False:\n",
    "        break\n"
   ]
  },
  {
   "cell_type": "code",
   "execution_count": null,
   "metadata": {
    "collapsed": true
   },
   "outputs": [],
   "source": []
  }
 ],
 "metadata": {
  "kernelspec": {
   "display_name": "Python 3",
   "language": "python",
   "name": "python3"
  },
  "language_info": {
   "codemirror_mode": {
    "name": "ipython",
    "version": 3
   },
   "file_extension": ".py",
   "mimetype": "text/x-python",
   "name": "python",
   "nbconvert_exporter": "python",
   "pygments_lexer": "ipython3",
   "version": "3.6.0"
  }
 },
 "nbformat": 4,
 "nbformat_minor": 2
}
